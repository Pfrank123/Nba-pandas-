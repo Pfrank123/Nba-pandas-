{
 "cells": [
  {
   "cell_type": "code",
   "execution_count": 2,
   "metadata": {},
   "outputs": [
    {
     "name": "stdout",
     "output_type": "stream",
     "text": [
      "   Season_years  Point_averages\n",
      "0          2013            13.9\n",
      "1          2014            17.1\n",
      "2          2015            15.3\n",
      "3          2016            17.4\n",
      "4          2017            23.1\n",
      "5          2018            22.6\n",
      "6          2019            25.6\n",
      "7          2020            30.5\n",
      "8          2021            34.7\n"
     ]
    }
   ],
   "source": [
    "import pandas as pd\n",
    "   \n",
    "data = {'Season_years': [2013, 2014, 2015, 2016, 2017, 2018, 2019, 2020, 2021],\n",
    "        'Point_averages': [13.9, 17.1, 15.3, 17.4, 23.1, 22.6, 25.6, 30.5, 34.7]\n",
    "       }\n",
    "  \n",
    "df = pd.DataFrame(data,columns=['Season_years','Point_averages'])\n",
    "print (df)"
   ]
  },
  {
   "cell_type": "code",
   "execution_count": 3,
   "metadata": {},
   "outputs": [
    {
     "data": {
      "text/plain": [
       "<matplotlib.axes._subplots.AxesSubplot at 0x1c5de29b5c0>"
      ]
     },
     "execution_count": 3,
     "metadata": {},
     "output_type": "execute_result"
    }
   ],
   "source": [
    "df.plot(x ='Season_years', y='Point_averages', kind = 'scatter')\t"
   ]
  },
  {
   "cell_type": "code",
   "execution_count": 16,
   "metadata": {},
   "outputs": [
    {
     "data": {
      "text/plain": [
       "Text(0.5, 1.0, 'Beals point average through the years')"
      ]
     },
     "execution_count": 16,
     "metadata": {},
     "output_type": "execute_result"
    },
    {
     "data": {
      "image/png": "[encoded data removed]",
      "text/plain": [
       "<Figure size 720x432 with 1 Axes>"
      ]
     },
     "metadata": {
      "needs_background": "light"
     },
     "output_type": "display_data"
    }
   ],
   "source": [
    "import pandas as pd\n",
    "import matplotlib.pyplot as plt\n",
    "\n",
    "data = {'Season years': [2013, 2014, 2015, 2016, 2017, 2018, 2019, 2020, 2021],\n",
    "        'Point averages': [13.9, 17.1, 15.3, 17.4, 23.1, 22.6, 25.6, 30.5, 34.7]\n",
    "       }\n",
    "df = pd.DataFrame(data, columns=['Season years', 'Point averages'])\n",
    "df.plot(x='Season years', y='Point averages', kind = 'scatter')\n",
    "plt.title('Beals point average through the years')"
   ]
  },
  {
   "cell_type": "code",
   "execution_count": 13,
   "metadata": {},
   "outputs": [],
   "source": []
  },
  {
   "cell_type": "code",
   "execution_count": null,
   "metadata": {},
   "outputs": [],
   "source": []
  }
 ],
 "metadata": {
  "kernelspec": {
   "display_name": "Python 3",
   "language": "python",
   "name": "python3"
  },
  "language_info": {
   "codemirror_mode": {
    "name": "ipython",
    "version": 3
   },
   "file_extension": ".py",
   "mimetype": "text/x-python",
   "name": "python",
   "nbconvert_exporter": "python",
   "pygments_lexer": "ipython3",
   "version": "3.7.3"
  }
 },
 "nbformat": 4,
 "nbformat_minor": 2
}
